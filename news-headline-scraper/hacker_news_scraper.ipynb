{
 "cells": [
  {
   "cell_type": "code",
   "execution_count": 1,
   "id": "b30ac380-330a-4e53-abbf-790265c58704",
   "metadata": {},
   "outputs": [
    {
     "name": "stdout",
     "output_type": "stream",
     "text": [
      "✅ Scraping complete. CSV file saved as 'hacker_news_headlines.csv'\n"
     ]
    }
   ],
   "source": [
    "import requests\n",
    "from bs4 import BeautifulSoup\n",
    "import pandas as pd\n",
    "\n",
    "# Step 1: Send HTTP request to Hacker News\n",
    "url = 'https://news.ycombinator.com/'\n",
    "response = requests.get(url)\n",
    "soup = BeautifulSoup(response.text, 'html.parser')\n",
    "\n",
    "# Step 2: Extract headlines and links\n",
    "headlines = soup.select('.titleline')\n",
    "\n",
    "news_data = []\n",
    "for item in headlines:\n",
    "    title = item.get_text()\n",
    "    link = item.a['href']\n",
    "    news_data.append({\n",
    "        'Title': title,\n",
    "        'Link': link\n",
    "    })\n",
    "\n",
    "# Step 3: Convert to DataFrame\n",
    "df = pd.DataFrame(news_data)\n",
    "\n",
    "# Step 4: Save to CSV\n",
    "df.to_csv('hacker_news_headlines.csv', index=False)\n",
    "\n",
    "print(\"✅ Scraping complete. CSV file saved as 'hacker_news_headlines.csv'\")\n"
   ]
  },
  {
   "cell_type": "code",
   "execution_count": null,
   "id": "68e83978-3e74-4645-aa17-6e6e17e2e4f1",
   "metadata": {},
   "outputs": [],
   "source": []
  }
 ],
 "metadata": {
  "kernelspec": {
   "display_name": "Python 3 (ipykernel)",
   "language": "python",
   "name": "python3"
  },
  "language_info": {
   "codemirror_mode": {
    "name": "ipython",
    "version": 3
   },
   "file_extension": ".py",
   "mimetype": "text/x-python",
   "name": "python",
   "nbconvert_exporter": "python",
   "pygments_lexer": "ipython3",
   "version": "3.13.3"
  }
 },
 "nbformat": 4,
 "nbformat_minor": 5
}
